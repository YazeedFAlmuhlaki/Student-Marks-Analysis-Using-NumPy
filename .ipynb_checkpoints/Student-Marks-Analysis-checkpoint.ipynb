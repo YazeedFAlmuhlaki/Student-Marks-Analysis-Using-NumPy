{
 "cells": [
  {
   "cell_type": "code",
   "execution_count": 1,
   "id": "51b306ab-c704-4055-8544-d749abd12ddb",
   "metadata": {},
   "outputs": [],
   "source": [
    "import numpy as np "
   ]
  },
  {
   "cell_type": "code",
   "execution_count": 19,
   "id": "b13803c4-c68f-4cca-89ae-246b87ccfac7",
   "metadata": {},
   "outputs": [],
   "source": [
    "marks = [    \n",
    " [85, 90, 78, 92, 88], \n",
    " [75, 80, 70, 68, 72], \n",
    " [90, 92, 94, 96, 98], \n",
    " [60, 65, 63, 58, 70]] # each row represent a student marks."
   ]
  },
  {
   "cell_type": "code",
   "execution_count": 18,
   "id": "78c253c6-2802-409b-8770-1f9ed8cb623d",
   "metadata": {},
   "outputs": [],
   "source": [
    "# convert to numpy array. \n",
    "n_marks = np.array(marks) "
   ]
  },
  {
   "cell_type": "code",
   "execution_count": 9,
   "id": "7a5ea7b8-023e-42cd-a90d-7cd3338da9af",
   "metadata": {},
   "outputs": [
    {
     "name": "stdout",
     "output_type": "stream",
     "text": [
      "<class 'numpy.ndarray'>\n",
      "<class 'list'>\n"
     ]
    }
   ],
   "source": [
    "print(type(n_marks))\n",
    "print(type(marks))"
   ]
  },
  {
   "cell_type": "code",
   "execution_count": 26,
   "id": "5e72b803-cbdd-44df-8bb7-28f3f4548b68",
   "metadata": {},
   "outputs": [],
   "source": [
    "# get the total marks per student.\n",
    "total_marks = np.sum(n_marks , axis = 1) # axis = 1 apply the function to each row. --> 1st row 85+90+78+92+88 .. etc"
   ]
  },
  {
   "cell_type": "code",
   "execution_count": 22,
   "id": "81901a10-2008-45b1-b04c-d28de40e840a",
   "metadata": {},
   "outputs": [],
   "source": [
    "# average marks per student. \n",
    "avg_marks = np.mean(n_marks , axis = 1)"
   ]
  },
  {
   "cell_type": "code",
   "execution_count": 23,
   "id": "0044af1a-b8a1-42d5-864a-eba2f5e18941",
   "metadata": {},
   "outputs": [],
   "source": [
    "# maximum marks per student.\n",
    "max_marks = np.max(n_marks , axis = 1)"
   ]
  },
  {
   "cell_type": "code",
   "execution_count": 24,
   "id": "14fb363a-5997-46d9-91ab-f5cde5ce9adc",
   "metadata": {},
   "outputs": [],
   "source": [
    "# minimum marks per student.\n",
    "min_marks = np.min(n_marks , axis = 1)"
   ]
  },
  {
   "cell_type": "code",
   "execution_count": 33,
   "id": "69a9d061-7f59-4754-853c-c6edc068a6cc",
   "metadata": {},
   "outputs": [
    {
     "name": "stdout",
     "output_type": "stream",
     "text": [
      "data of student number1    \n",
      "total marks: 433    \n",
      "average marks: 86.6    \n",
      "maximum mark: 92    \n",
      "minimum mark: 78\n",
      "data of student number2    \n",
      "total marks: 365    \n",
      "average marks: 73.0    \n",
      "maximum mark: 80    \n",
      "minimum mark: 68\n",
      "data of student number3    \n",
      "total marks: 470    \n",
      "average marks: 94.0    \n",
      "maximum mark: 98    \n",
      "minimum mark: 90\n",
      "data of student number4    \n",
      "total marks: 316    \n",
      "average marks: 63.2    \n",
      "maximum mark: 70    \n",
      "minimum mark: 58\n"
     ]
    }
   ],
   "source": [
    "for student in range(len(n_marks)):\n",
    "    print(f'data of student number{student+1}\\\n",
    "    \\ntotal marks: {total_marks[student]}\\\n",
    "    \\naverage marks: {avg_marks[student]}\\\n",
    "    \\nmaximum mark: {max_marks[student]}\\\n",
    "    \\nminimum mark: {min_marks[student]}')"
   ]
  },
  {
   "cell_type": "code",
   "execution_count": null,
   "id": "5825408f-403d-4494-a202-f3e89ced15ae",
   "metadata": {},
   "outputs": [],
   "source": []
  }
 ],
 "metadata": {
  "kernelspec": {
   "display_name": "Python [conda env:base] *",
   "language": "python",
   "name": "conda-base-py"
  },
  "language_info": {
   "codemirror_mode": {
    "name": "ipython",
    "version": 3
   },
   "file_extension": ".py",
   "mimetype": "text/x-python",
   "name": "python",
   "nbconvert_exporter": "python",
   "pygments_lexer": "ipython3",
   "version": "3.13.5"
  }
 },
 "nbformat": 4,
 "nbformat_minor": 5
}
